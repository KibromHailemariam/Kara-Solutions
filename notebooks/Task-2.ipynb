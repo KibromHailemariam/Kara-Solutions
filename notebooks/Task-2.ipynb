{
 "cells": [
  {
   "cell_type": "markdown",
   "metadata": {},
   "source": [
    "# Data Cleaning and Transformation\n"
   ]
  },
  {
   "cell_type": "code",
   "execution_count": 5,
   "metadata": {},
   "outputs": [],
   "source": [
    "import pandas as pd\n",
    "# Load scraped data\n",
    "df = pd.read_csv('telegram_raw_data.csv')\n",
    "\n",
    "## Remove rows with missing text\n",
    "df = df.dropna(subset=['text'])\n",
    "\n",
    "## Remove duplicates\n",
    "df = df.drop_duplicates(subset=['text'])\n",
    "\n",
    "# Standardize formats\n",
    "df['text'] = df['text'].str.lower().str.strip()  # Lowercase and strip text\n",
    "if 'date' in df.columns: df['date'] = pd.to_datetime(df['date'], errors='coerce')  # Normalize date format\n",
    "if 'message_id' in df.columns: df['message_id'] = pd.to_numeric(df['message_id'], errors='coerce')  # Ensure numeric\n",
    "\n",
    "# Data Validation\n",
    "df = df.dropna(subset=['text']).drop_duplicates(subset=['text'])  # Remove missing and duplicate rows\n",
    "df = df[df['text'].str.len() > 5]  # Filter entries with text length > 5\n",
    "\n",
    "# Save cleaned data\n",
    "df.to_csv('cleaned_telegram_data.csv', index=False)"
   ]
  },
  {
   "cell_type": "markdown",
   "metadata": {},
   "source": [
    "# Monitoring and Logging:\n",
    "\n"
   ]
  },
  {
   "cell_type": "markdown",
   "metadata": {},
   "source": [
    "### Setup the Logging Configuration"
   ]
  },
  {
   "cell_type": "code",
   "execution_count": 6,
   "metadata": {},
   "outputs": [],
   "source": [
    "import logging\n",
    "from datetime import datetime\n",
    "\n",
    "# Configure the logging system\n",
    "logging.basicConfig(\n",
    "    filename=f'telegram_scraping_{datetime.now().strftime(\"%Y%m%d_%H%M%S\")}.log',\n",
    "    level=logging.INFO,\n",
    "    format='%(asctime)s - %(levelname)s - %(message)s',\n",
    "    filemode='w'  # 'w' to overwrite the file, 'a' to append\n",
    ")\n",
    "\n",
    "# Create logger (optional if you're using root logger directly)\n",
    "logger = logging.getLogger(__name__)"
   ]
  },
  {
   "cell_type": "markdown",
   "metadata": {},
   "source": [
    "###  Logging During the Scraping Process"
   ]
  },
  {
   "cell_type": "code",
   "execution_count": null,
   "metadata": {},
   "outputs": [],
   "source": [
    "try:\n",
    "    # Start of the scraping process\n",
    "    logger.info('Starting Telegram scraping process')\n",
    "    \n",
    "    # Authentication\n",
    "    logger.info('Authenticating with Telegram API')\n",
    "    client.start(phone_number)\n",
    "    \n",
    "    # Scraping each channel\n",
    "    for channel in ['DoctorsET', 'Chemed', 'lobelia4cosmetics', 'yetenaweg', 'EAHCI']:\n",
    "        logger.info(f'Starting to scrape channel: {channel}')\n",
    "        try:\n",
    "            messages = client(GetHistoryRequest(peer=channel, limit=500))\n",
    "            logger.info(f'Successfully scraped {len(messages)} messages from {channel}')\n",
    "            # Here you would process the messages\n",
    "        except Exception as e:\n",
    "            logger.error(f'Error while scraping {channel}: {e}', exc_info=True)\n",
    "    \n",
    "    logger.info('Scraping process completed successfully')\n",
    "\n",
    "except Exception as e:\n",
    "    logger.critical('Unexpected error occurred during scraping', exc_info=True)\n",
    "\n",
    "finally:\n",
    "    logger.info('Cleaning up resources')\n",
    "    client.disconnect()  # Assuming 'client' is your TelegramClient instance"
   ]
  },
  {
   "cell_type": "markdown",
   "metadata": {},
   "source": [
    "### Monitoring Progress"
   ]
  },
  {
   "cell_type": "code",
   "execution_count": 8,
   "metadata": {},
   "outputs": [
    {
     "ename": "NameError",
     "evalue": "name 'channels' is not defined",
     "output_type": "error",
     "traceback": [
      "\u001b[0;31m---------------------------------------------------------------------------\u001b[0m",
      "\u001b[0;31mNameError\u001b[0m                                 Traceback (most recent call last)",
      "Cell \u001b[0;32mIn[8], line 3\u001b[0m\n\u001b[1;32m      1\u001b[0m \u001b[38;5;66;03m# Example if you're processing a large number of messages\u001b[39;00m\n\u001b[1;32m      2\u001b[0m total_messages \u001b[38;5;241m=\u001b[39m \u001b[38;5;241m0\u001b[39m\n\u001b[0;32m----> 3\u001b[0m \u001b[38;5;28;01mfor\u001b[39;00m channel \u001b[38;5;129;01min\u001b[39;00m \u001b[43mchannels\u001b[49m:\n\u001b[1;32m      4\u001b[0m     messages \u001b[38;5;241m=\u001b[39m client(GetHistoryRequest(peer\u001b[38;5;241m=\u001b[39mchannel, limit\u001b[38;5;241m=\u001b[39m\u001b[38;5;241m500\u001b[39m))\n\u001b[1;32m      5\u001b[0m     total_messages \u001b[38;5;241m+\u001b[39m\u001b[38;5;241m=\u001b[39m \u001b[38;5;28mlen\u001b[39m(messages)\n",
      "\u001b[0;31mNameError\u001b[0m: name 'channels' is not defined"
     ]
    }
   ],
   "source": [
    "# Example if you're processing a large number of messages\n",
    "total_messages = 0\n",
    "for channel in channels:\n",
    "    messages = client(GetHistoryRequest(peer=channel, limit=500))\n",
    "    total_messages += len(messages)\n",
    "    logger.info(f'Processed {total_messages} messages so far')"
   ]
  },
  {
   "cell_type": "code",
   "execution_count": 10,
   "metadata": {},
   "outputs": [
    {
     "ename": "OperationalError",
     "evalue": "database is locked",
     "output_type": "error",
     "traceback": [
      "\u001b[0;31m---------------------------------------------------------------------------\u001b[0m",
      "\u001b[0;31mOperationalError\u001b[0m                          Traceback (most recent call last)",
      "Cell \u001b[0;32mIn[10], line 18\u001b[0m\n\u001b[1;32m     16\u001b[0m api_hash \u001b[38;5;241m=\u001b[39m \u001b[38;5;124m'\u001b[39m\u001b[38;5;124m60c830a40a5ff9cb549824b9a6399737\u001b[39m\u001b[38;5;124m'\u001b[39m  \u001b[38;5;66;03m# Replace with your actual API hash\u001b[39;00m\n\u001b[1;32m     17\u001b[0m phone_number \u001b[38;5;241m=\u001b[39m \u001b[38;5;124m'\u001b[39m\u001b[38;5;124m+251986408483\u001b[39m\u001b[38;5;124m'\u001b[39m  \u001b[38;5;66;03m# Replace with your phone number\u001b[39;00m\n\u001b[0;32m---> 18\u001b[0m client \u001b[38;5;241m=\u001b[39m \u001b[43mTelegramClient\u001b[49m\u001b[43m(\u001b[49m\u001b[38;5;124;43m'\u001b[39;49m\u001b[38;5;124;43msession_name\u001b[39;49m\u001b[38;5;124;43m'\u001b[39;49m\u001b[43m,\u001b[49m\u001b[43m \u001b[49m\u001b[43mapi_id\u001b[49m\u001b[43m,\u001b[49m\u001b[43m \u001b[49m\u001b[43mapi_hash\u001b[49m\u001b[43m)\u001b[49m\n\u001b[1;32m     20\u001b[0m \u001b[38;5;66;03m# Authentication\u001b[39;00m\n\u001b[1;32m     21\u001b[0m client\u001b[38;5;241m.\u001b[39mstart(phone_number)\n",
      "File \u001b[0;32m~/envs/shared_env/lib/python3.9/site-packages/telethon/client/telegrambaseclient.py:311\u001b[0m, in \u001b[0;36mTelegramBaseClient.__init__\u001b[0;34m(self, session, api_id, api_hash, connection, use_ipv6, proxy, local_addr, timeout, request_retries, connection_retries, retry_delay, auto_reconnect, sequential_updates, flood_sleep_threshold, raise_last_call_error, device_model, system_version, app_version, lang_code, system_lang_code, loop, base_logger, receive_updates, catch_up, entity_cache_limit)\u001b[0m\n\u001b[1;32m    308\u001b[0m \u001b[38;5;66;03m# ':' in session.server_address is True if it's an IPv6 address\u001b[39;00m\n\u001b[1;32m    309\u001b[0m \u001b[38;5;28;01mif\u001b[39;00m (\u001b[38;5;129;01mnot\u001b[39;00m session\u001b[38;5;241m.\u001b[39mserver_address \u001b[38;5;129;01mor\u001b[39;00m\n\u001b[1;32m    310\u001b[0m         (\u001b[38;5;124m'\u001b[39m\u001b[38;5;124m:\u001b[39m\u001b[38;5;124m'\u001b[39m \u001b[38;5;129;01min\u001b[39;00m session\u001b[38;5;241m.\u001b[39mserver_address) \u001b[38;5;241m!=\u001b[39m use_ipv6):\n\u001b[0;32m--> 311\u001b[0m     \u001b[43msession\u001b[49m\u001b[38;5;241;43m.\u001b[39;49m\u001b[43mset_dc\u001b[49m\u001b[43m(\u001b[49m\n\u001b[1;32m    312\u001b[0m \u001b[43m        \u001b[49m\u001b[43mDEFAULT_DC_ID\u001b[49m\u001b[43m,\u001b[49m\n\u001b[1;32m    313\u001b[0m \u001b[43m        \u001b[49m\u001b[43mDEFAULT_IPV6_IP\u001b[49m\u001b[43m \u001b[49m\u001b[38;5;28;43;01mif\u001b[39;49;00m\u001b[43m \u001b[49m\u001b[38;5;28;43mself\u001b[39;49m\u001b[38;5;241;43m.\u001b[39;49m\u001b[43m_use_ipv6\u001b[49m\u001b[43m \u001b[49m\u001b[38;5;28;43;01melse\u001b[39;49;00m\u001b[43m \u001b[49m\u001b[43mDEFAULT_IPV4_IP\u001b[49m\u001b[43m,\u001b[49m\n\u001b[1;32m    314\u001b[0m \u001b[43m        \u001b[49m\u001b[43mDEFAULT_PORT\u001b[49m\n\u001b[1;32m    315\u001b[0m \u001b[43m    \u001b[49m\u001b[43m)\u001b[49m\n\u001b[1;32m    317\u001b[0m \u001b[38;5;28mself\u001b[39m\u001b[38;5;241m.\u001b[39mflood_sleep_threshold \u001b[38;5;241m=\u001b[39m flood_sleep_threshold\n\u001b[1;32m    319\u001b[0m \u001b[38;5;66;03m# TODO Use AsyncClassWrapper(session)\u001b[39;00m\n\u001b[1;32m    320\u001b[0m \u001b[38;5;66;03m# ChatGetter and SenderGetter can use the in-memory _mb_entity_cache\u001b[39;00m\n\u001b[1;32m    321\u001b[0m \u001b[38;5;66;03m# to avoid network access and the need for await in session files.\u001b[39;00m\n\u001b[0;32m   (...)\u001b[0m\n\u001b[1;32m    325\u001b[0m \u001b[38;5;66;03m# TODO Session should probably return all cached\u001b[39;00m\n\u001b[1;32m    326\u001b[0m \u001b[38;5;66;03m#      info of entities, not just the input versions\u001b[39;00m\n",
      "File \u001b[0;32m~/envs/shared_env/lib/python3.9/site-packages/telethon/sessions/sqlite.py:168\u001b[0m, in \u001b[0;36mSQLiteSession.set_dc\u001b[0;34m(self, dc_id, server_address, port)\u001b[0m\n\u001b[1;32m    166\u001b[0m \u001b[38;5;28;01mdef\u001b[39;00m\u001b[38;5;250m \u001b[39m\u001b[38;5;21mset_dc\u001b[39m(\u001b[38;5;28mself\u001b[39m, dc_id, server_address, port):\n\u001b[1;32m    167\u001b[0m     \u001b[38;5;28msuper\u001b[39m()\u001b[38;5;241m.\u001b[39mset_dc(dc_id, server_address, port)\n\u001b[0;32m--> 168\u001b[0m     \u001b[38;5;28;43mself\u001b[39;49m\u001b[38;5;241;43m.\u001b[39;49m\u001b[43m_update_session_table\u001b[49m\u001b[43m(\u001b[49m\u001b[43m)\u001b[49m\n\u001b[1;32m    170\u001b[0m     \u001b[38;5;66;03m# Fetch the auth_key corresponding to this data center\u001b[39;00m\n\u001b[1;32m    171\u001b[0m     row \u001b[38;5;241m=\u001b[39m \u001b[38;5;28mself\u001b[39m\u001b[38;5;241m.\u001b[39m_execute(\u001b[38;5;124m'\u001b[39m\u001b[38;5;124mselect auth_key from sessions\u001b[39m\u001b[38;5;124m'\u001b[39m)\n",
      "File \u001b[0;32m~/envs/shared_env/lib/python3.9/site-packages/telethon/sessions/sqlite.py:194\u001b[0m, in \u001b[0;36mSQLiteSession._update_session_table\u001b[0;34m(self)\u001b[0m\n\u001b[1;32m    188\u001b[0m c \u001b[38;5;241m=\u001b[39m \u001b[38;5;28mself\u001b[39m\u001b[38;5;241m.\u001b[39m_cursor()\n\u001b[1;32m    189\u001b[0m \u001b[38;5;66;03m# While we can save multiple rows into the sessions table\u001b[39;00m\n\u001b[1;32m    190\u001b[0m \u001b[38;5;66;03m# currently we only want to keep ONE as the tables don't\u001b[39;00m\n\u001b[1;32m    191\u001b[0m \u001b[38;5;66;03m# tell us which auth_key's are usable and will work. Needs\u001b[39;00m\n\u001b[1;32m    192\u001b[0m \u001b[38;5;66;03m# some more work before being able to save auth_key's for\u001b[39;00m\n\u001b[1;32m    193\u001b[0m \u001b[38;5;66;03m# multiple DCs. Probably done differently.\u001b[39;00m\n\u001b[0;32m--> 194\u001b[0m \u001b[43mc\u001b[49m\u001b[38;5;241;43m.\u001b[39;49m\u001b[43mexecute\u001b[49m\u001b[43m(\u001b[49m\u001b[38;5;124;43m'\u001b[39;49m\u001b[38;5;124;43mdelete from sessions\u001b[39;49m\u001b[38;5;124;43m'\u001b[39;49m\u001b[43m)\u001b[49m\n\u001b[1;32m    195\u001b[0m c\u001b[38;5;241m.\u001b[39mexecute(\u001b[38;5;124m'\u001b[39m\u001b[38;5;124minsert or replace into sessions values (?,?,?,?,?)\u001b[39m\u001b[38;5;124m'\u001b[39m, (\n\u001b[1;32m    196\u001b[0m     \u001b[38;5;28mself\u001b[39m\u001b[38;5;241m.\u001b[39m_dc_id,\n\u001b[1;32m    197\u001b[0m     \u001b[38;5;28mself\u001b[39m\u001b[38;5;241m.\u001b[39m_server_address,\n\u001b[0;32m   (...)\u001b[0m\n\u001b[1;32m    200\u001b[0m     \u001b[38;5;28mself\u001b[39m\u001b[38;5;241m.\u001b[39m_takeout_id\n\u001b[1;32m    201\u001b[0m ))\n\u001b[1;32m    202\u001b[0m c\u001b[38;5;241m.\u001b[39mclose()\n",
      "\u001b[0;31mOperationalError\u001b[0m: database is locked"
     ]
    }
   ],
   "source": [
    "from telethon import TelegramClient\n",
    "from telethon.tl.functions.messages import GetHistoryRequest\n",
    "import logging\n",
    "\n",
    "# Configure the logging system\n",
    "logging.basicConfig(\n",
    "    filename=f'telegram_scraping_{datetime.now().strftime(\"%Y%m%d_%H%M%S\")}.log',\n",
    "    level=logging.INFO,\n",
    "    format='%(asctime)s - %(levelname)s - %(message)s',\n",
    "    filemode='w'\n",
    ")\n",
    "logger = logging.getLogger(__name__)\n",
    "\n",
    "# Define your TelegramClient here\n",
    "api_id = '21423729'  # Replace with your actual API ID\n",
    "api_hash = '60c830a40a5ff9cb549824b9a6399737'  # Replace with your actual API hash\n",
    "phone_number = '+251986408483'  # Replace with your phone number\n",
    "client = TelegramClient('session_name', api_id, api_hash)\n",
    "\n",
    "# Authentication\n",
    "client.start(phone_number)\n",
    "\n",
    "# Define your list of channels\n",
    "channels = ['DoctorsET', 'Chemed', 'lobelia4cosmetics', 'yetenaweg', 'EAHCI']\n",
    "\n",
    "# Example if you're processing a large number of messages\n",
    "total_messages = 0\n",
    "for channel in channels:\n",
    "    try:\n",
    "        messages = client(GetHistoryRequest(peer=channel, limit=500))\n",
    "        total_messages += len(messages)\n",
    "        logger.info(f'Processed {total_messages} messages so far')\n",
    "    except Exception as e:\n",
    "        logger.error(f'Error processing channel {channel}: {e}', exc_info=True)\n",
    "\n",
    "# Cleanup\n",
    "client.disconnect()"
   ]
  },
  {
   "cell_type": "code",
   "execution_count": null,
   "metadata": {},
   "outputs": [],
   "source": []
  }
 ],
 "metadata": {
  "kernelspec": {
   "display_name": "shared_env",
   "language": "python",
   "name": "python3"
  },
  "language_info": {
   "codemirror_mode": {
    "name": "ipython",
    "version": 3
   },
   "file_extension": ".py",
   "mimetype": "text/x-python",
   "name": "python",
   "nbconvert_exporter": "python",
   "pygments_lexer": "ipython3",
   "version": "3.9.18"
  }
 },
 "nbformat": 4,
 "nbformat_minor": 2
}
