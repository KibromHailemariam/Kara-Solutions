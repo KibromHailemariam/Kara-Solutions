{
 "cells": [
  {
   "cell_type": "markdown",
   "metadata": {},
   "source": [
    "# Data Cleaning and Transformation\n"
   ]
  },
  {
   "cell_type": "code",
   "execution_count": 1,
   "metadata": {},
   "outputs": [],
   "source": [
    "import pandas as pd\n",
    "# Load scraped data\n",
    "df = pd.read_csv('telegram_raw_data.csv')\n",
    "\n",
    "## Remove rows with missing text\n",
    "df = df.dropna(subset=['text'])\n",
    "\n",
    "## Remove duplicates\n",
    "df = df.drop_duplicates(subset=['text'])\n",
    "\n",
    "# Standardize formats\n",
    "df['text'] = df['text'].str.lower().str.strip()  # Lowercase and strip text\n",
    "if 'date' in df.columns: df['date'] = pd.to_datetime(df['date'], errors='coerce')  # Normalize date format\n",
    "if 'message_id' in df.columns: df['message_id'] = pd.to_numeric(df['message_id'], errors='coerce')  # Ensure numeric\n",
    "\n",
    "# Data Validation\n",
    "df = df.dropna(subset=['text']).drop_duplicates(subset=['text'])  # Remove missing and duplicate rows\n",
    "df = df[df['text'].str.len() > 5]  # Filter entries with text length > 5\n",
    "\n",
    "# Save cleaned data\n",
    "df.to_csv('cleaned_telegram_data.csv', index=False)"
   ]
  },
  {
   "cell_type": "markdown",
   "metadata": {},
   "source": [
    "# Monitoring and Logging:\n",
    "\n"
   ]
  },
  {
   "cell_type": "markdown",
   "metadata": {},
   "source": [
    "### Setup the Logging Configuration"
   ]
  },
  {
   "cell_type": "code",
   "execution_count": 2,
   "metadata": {},
   "outputs": [],
   "source": [
    "import logging\n",
    "from datetime import datetime\n",
    "\n",
    "# Configure the logging system\n",
    "logging.basicConfig(\n",
    "    filename=f'telegram_scraping_{datetime.now().strftime(\"%Y%m%d_%H%M%S\")}.log',\n",
    "    level=logging.INFO,\n",
    "    format='%(asctime)s - %(levelname)s - %(message)s',\n",
    "    filemode='w'  # 'w' to overwrite the file, 'a' to append\n",
    ")\n",
    "\n",
    "# Create logger (optional if you're using root logger directly)\n",
    "logger = logging.getLogger(__name__)"
   ]
  },
  {
   "cell_type": "markdown",
   "metadata": {},
   "source": [
    "### Logging During the Scraping Process"
   ]
  },
  {
   "cell_type": "code",
   "execution_count": 4,
   "metadata": {},
   "outputs": [
    {
     "name": "stderr",
     "output_type": "stream",
     "text": [
      "C:\\Users\\HP 830 G6\\AppData\\Local\\Temp\\ipykernel_15980\\2444384123.py:23: RuntimeWarning: coroutine 'AuthMethods._start' was never awaited\n",
      "  client.start(phone_number)  # Ensure this line executes properly\n",
      "RuntimeWarning: Enable tracemalloc to get the object allocation traceback\n"
     ]
    }
   ],
   "source": [
    "import logging\n",
    "from telethon.sync import TelegramClient\n",
    "from telethon.tl.functions.messages import GetHistoryRequest\n",
    "\n",
    "# Configure logging\n",
    "logging.basicConfig(level=logging.INFO, format=\"%(asctime)s - %(levelname)s - %(message)s\")\n",
    "logger = logging.getLogger(__name__)\n",
    "\n",
    "# Telegram API credentials\n",
    "api_id = 25116412  # Use integer, not string\n",
    "api_hash = \"3d271d7445279596e83ea75d79ff760d\"\n",
    "phone_number = \"+251985535012\"\n",
    "\n",
    "# Initialize Telegram Client (Before try block)\n",
    "client = TelegramClient(\"session_name\", api_id, api_hash)\n",
    "\n",
    "try:\n",
    "    # Start of the scraping process\n",
    "    logger.info(\"Starting Telegram scraping process\")\n",
    "    \n",
    "    # Authentication\n",
    "    logger.info(\"Authenticating with Telegram API\")\n",
    "    client.start(phone_number)  # Ensure this line executes properly\n",
    "\n",
    "    # Scraping each channel\n",
    "    channels = [\"DoctorsET\", \"Chemed\", \"lobelia4cosmetics\", \"yetenaweg\", \"EAHCI\"]\n",
    "    \n",
    "    for channel in channels:\n",
    "        logger.info(f\"Starting to scrape channel: {channel}\")\n",
    "        try:\n",
    "            messages = client(GetHistoryRequest(peer=channel, limit=500))\n",
    "            logger.info(f\"Successfully scraped {len(messages.messages)} messages from {channel}\")\n",
    "            # Process messages here (e.g., store them in a file/database)\n",
    "        except Exception as e:\n",
    "            logger.error(f\"Error while scraping {channel}: {e}\", exc_info=True)\n",
    "\n",
    "    logger.info(\"Scraping process completed successfully\")\n",
    "\n",
    "except Exception as e:\n",
    "    logger.critical(\"Unexpected error occurred during scraping\", exc_info=True)\n",
    "\n",
    "finally:\n",
    "    logger.info(\"Cleaning up resources\")\n",
    "    if client.is_connected():  # Check if client is connected before disconnecting\n",
    "        client.disconnect()\n"
   ]
  },
  {
   "cell_type": "markdown",
   "metadata": {},
   "source": [
    "### Monitoring Progress"
   ]
  },
  {
   "cell_type": "code",
   "execution_count": 5,
   "metadata": {},
   "outputs": [
    {
     "name": "stderr",
     "output_type": "stream",
     "text": [
      "C:\\Users\\HP 830 G6\\AppData\\Local\\Temp\\ipykernel_15980\\3269271251.py:21: RuntimeWarning: coroutine 'AuthMethods._start' was never awaited\n",
      "  client.start(phone_number)\n",
      "RuntimeWarning: Enable tracemalloc to get the object allocation traceback\n"
     ]
    },
    {
     "data": {
      "text/plain": [
       "<Future pending cb=[shield.<locals>._outer_done_callback() at c:\\Users\\HP 830 G6\\anaconda3\\Lib\\asyncio\\tasks.py:922]>"
      ]
     },
     "execution_count": 5,
     "metadata": {},
     "output_type": "execute_result"
    }
   ],
   "source": [
    "from telethon import TelegramClient\n",
    "from telethon.tl.functions.messages import GetHistoryRequest\n",
    "import logging\n",
    "\n",
    "# Configure the logging system\n",
    "logging.basicConfig(\n",
    "    filename=f'telegram_scraping_{datetime.now().strftime(\"%Y%m%d_%H%M%S\")}.log',\n",
    "    level=logging.INFO,\n",
    "    format='%(asctime)s - %(levelname)s - %(message)s',\n",
    "    filemode='w'\n",
    ")\n",
    "logger = logging.getLogger(__name__)\n",
    "\n",
    "# Define your TelegramClient here\n",
    "api_id = '21423729'  # Replace with your actual API ID\n",
    "api_hash = '60c830a40a5ff9cb549824b9a6399737'  # Replace with your actual API hash\n",
    "phone_number = '+251986408483'  # Replace with your phone number\n",
    "client = TelegramClient('session_name', api_id, api_hash)\n",
    "\n",
    "# Authentication\n",
    "client.start(phone_number)\n",
    "\n",
    "# Define your list of channels\n",
    "channels = ['DoctorsET', 'Chemed', 'lobelia4cosmetics', 'yetenaweg', 'EAHCI']\n",
    "\n",
    "# Example if you're processing a large number of messages\n",
    "total_messages = 0\n",
    "for channel in channels:\n",
    "    try:\n",
    "        messages = client(GetHistoryRequest(peer=channel, limit=500))\n",
    "        total_messages += len(messages)\n",
    "        logger.info(f'Processed {total_messages} messages so far')\n",
    "    except Exception as e:\n",
    "        logger.error(f'Error processing channel {channel}: {e}', exc_info=True)\n",
    "\n",
    "# Cleanup\n",
    "client.disconnect()"
   ]
  }
 ],
 "metadata": {
  "kernelspec": {
   "display_name": "base",
   "language": "python",
   "name": "python3"
  },
  "language_info": {
   "codemirror_mode": {
    "name": "ipython",
    "version": 3
   },
   "file_extension": ".py",
   "mimetype": "text/x-python",
   "name": "python",
   "nbconvert_exporter": "python",
   "pygments_lexer": "ipython3",
   "version": "3.12.7"
  }
 },
 "nbformat": 4,
 "nbformat_minor": 2
}
