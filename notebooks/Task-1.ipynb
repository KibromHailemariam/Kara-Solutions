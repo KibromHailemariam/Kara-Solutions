{
 "cells": [
  {
   "cell_type": "markdown",
   "metadata": {},
   "source": [
    "# Data scraping and collection pipeline\n"
   ]
  },
  {
   "cell_type": "markdown",
   "metadata": {},
   "source": [
    "# Telegram Scraping"
   ]
  },
  {
   "cell_type": "markdown",
   "metadata": {},
   "source": [
    "### Authenticate with Telegram API"
   ]
  },
  {
   "cell_type": "code",
   "execution_count": 7,
   "metadata": {},
   "outputs": [
    {
     "ename": "OperationalError",
     "evalue": "database is locked",
     "output_type": "error",
     "traceback": [
      "\u001b[0;31m---------------------------------------------------------------------------\u001b[0m",
      "\u001b[0;31mOperationalError\u001b[0m                          Traceback (most recent call last)",
      "Cell \u001b[0;32mIn[7], line 10\u001b[0m\n\u001b[1;32m      7\u001b[0m phone_number \u001b[38;5;241m=\u001b[39m \u001b[38;5;124m'\u001b[39m\u001b[38;5;124m+251986408483\u001b[39m\u001b[38;5;124m'\u001b[39m\n\u001b[1;32m      9\u001b[0m \u001b[38;5;66;03m# Create the client\u001b[39;00m\n\u001b[0;32m---> 10\u001b[0m client \u001b[38;5;241m=\u001b[39m \u001b[43mTelegramClient\u001b[49m\u001b[43m(\u001b[49m\u001b[38;5;124;43m'\u001b[39;49m\u001b[38;5;124;43msession_name\u001b[39;49m\u001b[38;5;124;43m'\u001b[39;49m\u001b[43m,\u001b[49m\u001b[43m \u001b[49m\u001b[43mapi_id\u001b[49m\u001b[43m,\u001b[49m\u001b[43m \u001b[49m\u001b[43mapi_hash\u001b[49m\u001b[43m)\u001b[49m\n\u001b[1;32m     12\u001b[0m \u001b[38;5;28;01masync\u001b[39;00m \u001b[38;5;28;01mdef\u001b[39;00m\u001b[38;5;250m \u001b[39m\u001b[38;5;21mmain\u001b[39m():\n\u001b[1;32m     13\u001b[0m     \u001b[38;5;28;01mawait\u001b[39;00m client\u001b[38;5;241m.\u001b[39mstart(phone_number)\n",
      "File \u001b[0;32m~/envs/shared_env/lib/python3.9/site-packages/telethon/client/telegrambaseclient.py:311\u001b[0m, in \u001b[0;36mTelegramBaseClient.__init__\u001b[0;34m(self, session, api_id, api_hash, connection, use_ipv6, proxy, local_addr, timeout, request_retries, connection_retries, retry_delay, auto_reconnect, sequential_updates, flood_sleep_threshold, raise_last_call_error, device_model, system_version, app_version, lang_code, system_lang_code, loop, base_logger, receive_updates, catch_up, entity_cache_limit)\u001b[0m\n\u001b[1;32m    308\u001b[0m \u001b[38;5;66;03m# ':' in session.server_address is True if it's an IPv6 address\u001b[39;00m\n\u001b[1;32m    309\u001b[0m \u001b[38;5;28;01mif\u001b[39;00m (\u001b[38;5;129;01mnot\u001b[39;00m session\u001b[38;5;241m.\u001b[39mserver_address \u001b[38;5;129;01mor\u001b[39;00m\n\u001b[1;32m    310\u001b[0m         (\u001b[38;5;124m'\u001b[39m\u001b[38;5;124m:\u001b[39m\u001b[38;5;124m'\u001b[39m \u001b[38;5;129;01min\u001b[39;00m session\u001b[38;5;241m.\u001b[39mserver_address) \u001b[38;5;241m!=\u001b[39m use_ipv6):\n\u001b[0;32m--> 311\u001b[0m     \u001b[43msession\u001b[49m\u001b[38;5;241;43m.\u001b[39;49m\u001b[43mset_dc\u001b[49m\u001b[43m(\u001b[49m\n\u001b[1;32m    312\u001b[0m \u001b[43m        \u001b[49m\u001b[43mDEFAULT_DC_ID\u001b[49m\u001b[43m,\u001b[49m\n\u001b[1;32m    313\u001b[0m \u001b[43m        \u001b[49m\u001b[43mDEFAULT_IPV6_IP\u001b[49m\u001b[43m \u001b[49m\u001b[38;5;28;43;01mif\u001b[39;49;00m\u001b[43m \u001b[49m\u001b[38;5;28;43mself\u001b[39;49m\u001b[38;5;241;43m.\u001b[39;49m\u001b[43m_use_ipv6\u001b[49m\u001b[43m \u001b[49m\u001b[38;5;28;43;01melse\u001b[39;49;00m\u001b[43m \u001b[49m\u001b[43mDEFAULT_IPV4_IP\u001b[49m\u001b[43m,\u001b[49m\n\u001b[1;32m    314\u001b[0m \u001b[43m        \u001b[49m\u001b[43mDEFAULT_PORT\u001b[49m\n\u001b[1;32m    315\u001b[0m \u001b[43m    \u001b[49m\u001b[43m)\u001b[49m\n\u001b[1;32m    317\u001b[0m \u001b[38;5;28mself\u001b[39m\u001b[38;5;241m.\u001b[39mflood_sleep_threshold \u001b[38;5;241m=\u001b[39m flood_sleep_threshold\n\u001b[1;32m    319\u001b[0m \u001b[38;5;66;03m# TODO Use AsyncClassWrapper(session)\u001b[39;00m\n\u001b[1;32m    320\u001b[0m \u001b[38;5;66;03m# ChatGetter and SenderGetter can use the in-memory _mb_entity_cache\u001b[39;00m\n\u001b[1;32m    321\u001b[0m \u001b[38;5;66;03m# to avoid network access and the need for await in session files.\u001b[39;00m\n\u001b[0;32m   (...)\u001b[0m\n\u001b[1;32m    325\u001b[0m \u001b[38;5;66;03m# TODO Session should probably return all cached\u001b[39;00m\n\u001b[1;32m    326\u001b[0m \u001b[38;5;66;03m#      info of entities, not just the input versions\u001b[39;00m\n",
      "File \u001b[0;32m~/envs/shared_env/lib/python3.9/site-packages/telethon/sessions/sqlite.py:168\u001b[0m, in \u001b[0;36mSQLiteSession.set_dc\u001b[0;34m(self, dc_id, server_address, port)\u001b[0m\n\u001b[1;32m    166\u001b[0m \u001b[38;5;28;01mdef\u001b[39;00m\u001b[38;5;250m \u001b[39m\u001b[38;5;21mset_dc\u001b[39m(\u001b[38;5;28mself\u001b[39m, dc_id, server_address, port):\n\u001b[1;32m    167\u001b[0m     \u001b[38;5;28msuper\u001b[39m()\u001b[38;5;241m.\u001b[39mset_dc(dc_id, server_address, port)\n\u001b[0;32m--> 168\u001b[0m     \u001b[38;5;28;43mself\u001b[39;49m\u001b[38;5;241;43m.\u001b[39;49m\u001b[43m_update_session_table\u001b[49m\u001b[43m(\u001b[49m\u001b[43m)\u001b[49m\n\u001b[1;32m    170\u001b[0m     \u001b[38;5;66;03m# Fetch the auth_key corresponding to this data center\u001b[39;00m\n\u001b[1;32m    171\u001b[0m     row \u001b[38;5;241m=\u001b[39m \u001b[38;5;28mself\u001b[39m\u001b[38;5;241m.\u001b[39m_execute(\u001b[38;5;124m'\u001b[39m\u001b[38;5;124mselect auth_key from sessions\u001b[39m\u001b[38;5;124m'\u001b[39m)\n",
      "File \u001b[0;32m~/envs/shared_env/lib/python3.9/site-packages/telethon/sessions/sqlite.py:194\u001b[0m, in \u001b[0;36mSQLiteSession._update_session_table\u001b[0;34m(self)\u001b[0m\n\u001b[1;32m    188\u001b[0m c \u001b[38;5;241m=\u001b[39m \u001b[38;5;28mself\u001b[39m\u001b[38;5;241m.\u001b[39m_cursor()\n\u001b[1;32m    189\u001b[0m \u001b[38;5;66;03m# While we can save multiple rows into the sessions table\u001b[39;00m\n\u001b[1;32m    190\u001b[0m \u001b[38;5;66;03m# currently we only want to keep ONE as the tables don't\u001b[39;00m\n\u001b[1;32m    191\u001b[0m \u001b[38;5;66;03m# tell us which auth_key's are usable and will work. Needs\u001b[39;00m\n\u001b[1;32m    192\u001b[0m \u001b[38;5;66;03m# some more work before being able to save auth_key's for\u001b[39;00m\n\u001b[1;32m    193\u001b[0m \u001b[38;5;66;03m# multiple DCs. Probably done differently.\u001b[39;00m\n\u001b[0;32m--> 194\u001b[0m \u001b[43mc\u001b[49m\u001b[38;5;241;43m.\u001b[39;49m\u001b[43mexecute\u001b[49m\u001b[43m(\u001b[49m\u001b[38;5;124;43m'\u001b[39;49m\u001b[38;5;124;43mdelete from sessions\u001b[39;49m\u001b[38;5;124;43m'\u001b[39;49m\u001b[43m)\u001b[49m\n\u001b[1;32m    195\u001b[0m c\u001b[38;5;241m.\u001b[39mexecute(\u001b[38;5;124m'\u001b[39m\u001b[38;5;124minsert or replace into sessions values (?,?,?,?,?)\u001b[39m\u001b[38;5;124m'\u001b[39m, (\n\u001b[1;32m    196\u001b[0m     \u001b[38;5;28mself\u001b[39m\u001b[38;5;241m.\u001b[39m_dc_id,\n\u001b[1;32m    197\u001b[0m     \u001b[38;5;28mself\u001b[39m\u001b[38;5;241m.\u001b[39m_server_address,\n\u001b[0;32m   (...)\u001b[0m\n\u001b[1;32m    200\u001b[0m     \u001b[38;5;28mself\u001b[39m\u001b[38;5;241m.\u001b[39m_takeout_id\n\u001b[1;32m    201\u001b[0m ))\n\u001b[1;32m    202\u001b[0m c\u001b[38;5;241m.\u001b[39mclose()\n",
      "\u001b[0;31mOperationalError\u001b[0m: database is locked"
     ]
    }
   ],
   "source": [
    "import asyncio\n",
    "from telethon import TelegramClient\n",
    "\n",
    "# Replace these with your own API credentials from https://my.telegram.org\n",
    "api_id = '21423729'\n",
    "api_hash = '60c830a40a5ff9cb549824b9a6399737'\n",
    "phone_number = '+251986408483'\n",
    "\n",
    "# Create the client\n",
    "client = TelegramClient('session_name', api_id, api_hash)\n",
    "\n",
    "async def main():\n",
    "    await client.start(phone_number)\n",
    "    print(\"Client Created\")\n",
    "    \n",
    "    # Your scraping functions here...\n",
    "    \n",
    "    await scrape_all_channels(client)\n",
    "    \n",
    "    # Optional: Disconnect client when done\n",
    "    # await client.disconnect()\n",
    "\n",
    "if __name__ == \"__main__\":\n",
    "    asyncio.run(main())"
   ]
  },
  {
   "cell_type": "markdown",
   "metadata": {},
   "source": [
    "### Scrape Data from Telegram Channels"
   ]
  },
  {
   "cell_type": "code",
   "execution_count": 5,
   "metadata": {},
   "outputs": [
    {
     "ename": "NameError",
     "evalue": "name 'client' is not defined",
     "output_type": "error",
     "traceback": [
      "\u001b[0;31m---------------------------------------------------------------------------\u001b[0m",
      "\u001b[0;31mNameError\u001b[0m                                 Traceback (most recent call last)",
      "Cell \u001b[0;32mIn[5], line 46\u001b[0m\n\u001b[1;32m     42\u001b[0m     \u001b[38;5;28mprint\u001b[39m(\u001b[38;5;124mf\u001b[39m\u001b[38;5;124m\"\u001b[39m\u001b[38;5;124mScraped data from \u001b[39m\u001b[38;5;132;01m{\u001b[39;00m\u001b[38;5;28mlen\u001b[39m(channels)\u001b[38;5;132;01m}\u001b[39;00m\u001b[38;5;124m channels and saved to \u001b[39m\u001b[38;5;124m'\u001b[39m\u001b[38;5;124mtelegram_raw_data.csv\u001b[39m\u001b[38;5;124m'\u001b[39m\u001b[38;5;124m.\u001b[39m\u001b[38;5;124m\"\u001b[39m)\n\u001b[1;32m     44\u001b[0m \u001b[38;5;66;03m# Run the scraping function\u001b[39;00m\n\u001b[1;32m     45\u001b[0m \u001b[38;5;66;03m# Make sure 'client' is accessible here\u001b[39;00m\n\u001b[0;32m---> 46\u001b[0m \u001b[38;5;28;01mawait\u001b[39;00m scrape_all_channels(client)\n",
      "\u001b[0;31mNameError\u001b[0m: name 'client' is not defined"
     ]
    }
   ],
   "source": [
    "from telethon import functions, types\n",
    "import pandas as pd\n",
    "\n",
    "# Assuming 'client' is already defined and started from your previous code\n",
    "# Make sure 'client' is in the global scope or you pass it to functions properly\n",
    "\n",
    "# Define scrape_channel function\n",
    "async def scrape_channel(channel_username, client):\n",
    "    try:\n",
    "        channel = await client.get_entity(channel_username)\n",
    "        messages = await client.get_messages(channel, limit=100)  # Adjust limit as needed\n",
    "        data = []\n",
    "        \n",
    "        for message in messages:\n",
    "            data.append({\n",
    "                'date': message.date,\n",
    "                'text': message.text if message.text else None,\n",
    "                'media_type': type(message.media).__name__ if message.media else None,\n",
    "            })\n",
    "        \n",
    "        return data\n",
    "    except Exception as e:\n",
    "        print(f\"Error scraping channel {channel_username}: {e}\")\n",
    "        return []\n",
    "\n",
    "# List of channels to scrape\n",
    "channels = ['DoctorsET', 'Chemed', 'lobelia4cosmetics', 'yetenaweg', 'EAHCI']\n",
    "\n",
    "# Scrape data from all channels\n",
    "async def scrape_all_channels(client):\n",
    "    all_data = []\n",
    "    \n",
    "    for channel in channels:\n",
    "        scraped_data = await scrape_channel(channel, client)\n",
    "        all_data.extend(scraped_data)\n",
    "\n",
    "    # Convert to DataFrame\n",
    "    df = pd.DataFrame(all_data)\n",
    "\n",
    "    # Save to CSV\n",
    "    df.to_csv('telegram_raw_data.csv', index=False)\n",
    "    print(f\"Scraped data from {len(channels)} channels and saved to 'telegram_raw_data.csv'.\")\n",
    "\n",
    "# Run the scraping function\n",
    "# Make sure 'client' is accessible here\n",
    "await scrape_all_channels(client)"
   ]
  },
  {
   "cell_type": "markdown",
   "metadata": {},
   "source": [
    "# Image Scraping for Object Detection\n"
   ]
  },
  {
   "cell_type": "code",
   "execution_count": 9,
   "metadata": {},
   "outputs": [],
   "source": [
    "import os\n",
    "\n",
    "async def download_images(channel_username, save_dir):\n",
    "    if not os.path.exists(save_dir):\n",
    "        os.makedirs(save_dir)\n",
    "    \n",
    "    channel = await client.get_entity(channel_username)\n",
    "    messages = await client.get_messages(channel, limit=50)  # Adjust limit as needed\n",
    "    \n",
    "    for i, message in enumerate(messages):\n",
    "        if message.media:\n",
    "            await message.download_media(file=os.path.join(save_dir, f'image_{i}.jpg'))\n",
    "\n",
    "# Example: Download images from a channel\n",
    "channel_username = 'lobelia4cosmetics'\n",
    "save_directory = 'downloaded_images'\n",
    "client.loop.run_until_complete(download_images(channel_username, save_directory))"
   ]
  },
  {
   "cell_type": "markdown",
   "metadata": {},
   "source": [
    "# Storing Raw Data"
   ]
  },
  {
   "cell_type": "markdown",
   "metadata": {},
   "source": [
    "### Local Files"
   ]
  },
  {
   "cell_type": "code",
   "execution_count": null,
   "metadata": {},
   "outputs": [],
   "source": [
    "# Save scraped data to a DataFrame\n",
    "import pandas as pd\n",
    "df = pd.DataFrame(scraped_data)\n",
    "df.to_csv('telegram_raw_data.csv', index=False)"
   ]
  },
  {
   "cell_type": "markdown",
   "metadata": {},
   "source": [
    "### Moving to Local Database"
   ]
  },
  {
   "cell_type": "code",
   "execution_count": null,
   "metadata": {},
   "outputs": [],
   "source": [
    "import sqlite3\n",
    "import pandas as pd\n",
    "\n",
    "# Assuming data is already in a DataFrame\n",
    "df = pd.read_csv('telegram_raw_data.csv')\n",
    "\n",
    "conn = sqlite3.connect('telegram_data.db')\n",
    "df.to_sql('raw_messages', conn, if_exists='replace', index=False)\n",
    "conn.close()"
   ]
  },
  {
   "cell_type": "markdown",
   "metadata": {},
   "source": [
    "# Monitoring and Logging"
   ]
  },
  {
   "cell_type": "markdown",
   "metadata": {},
   "source": [
    "### Logging:"
   ]
  },
  {
   "cell_type": "code",
   "execution_count": null,
   "metadata": {},
   "outputs": [],
   "source": [
    "import logging\n",
    "from datetime import datetime\n",
    "\n",
    "# Configure logging\n",
    "logging.basicConfig(\n",
    "    filename='telegram_scraping_log_{}.log'.format(datetime.now().strftime('%Y%m%d_%H%M%S')),\n",
    "    level=logging.INFO,\n",
    "    format='%(asctime)s - %(levelname)s - %(message)s'\n",
    ")\n",
    "\n",
    "# Example usage in your scraping script\n",
    "try:\n",
    "    # Your scraping code here\n",
    "    logging.info('Scraping started for channel: %s', channel_name)\n",
    "    # More logging statements as needed\n",
    "except Exception as e:\n",
    "    logging.error('Error occurred while scraping: %s', str(e))\n",
    "finally:\n",
    "    logging.info('Scraping process concluded')"
   ]
  }
 ],
 "metadata": {
  "kernelspec": {
   "display_name": "shared_env",
   "language": "python",
   "name": "python3"
  },
  "language_info": {
   "codemirror_mode": {
    "name": "ipython",
    "version": 3
   },
   "file_extension": ".py",
   "mimetype": "text/x-python",
   "name": "python",
   "nbconvert_exporter": "python",
   "pygments_lexer": "ipython3",
   "version": "3.9.18"
  }
 },
 "nbformat": 4,
 "nbformat_minor": 2
}
