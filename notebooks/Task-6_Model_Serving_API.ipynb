{
 "cells": [
  {
   "cell_type": "markdown",
   "metadata": {},
   "source": [
    "# Model Serving API Call\n"
   ]
  },
  {
   "cell_type": "markdown",
   "metadata": {},
   "source": [
    "### Choose the Framework\n",
    " - I choose **Flask**, as it’s easy to use for deploying machine-learning models.\n"
   ]
  },
  {
   "cell_type": "markdown",
   "metadata": {},
   "source": [
    "### Install Dependencies"
   ]
  },
  {
   "cell_type": "code",
   "execution_count": 4,
   "metadata": {},
   "outputs": [
    {
     "name": "stdout",
     "output_type": "stream",
     "text": [
      "Requirement already satisfied: flask in /Users/zelalemtegene/envs/shared_env/lib/python3.9/site-packages (3.1.0)\n",
      "Requirement already satisfied: scikit-learn in /Users/zelalemtegene/envs/shared_env/lib/python3.9/site-packages (1.6.1)\n",
      "Requirement already satisfied: joblib in /Users/zelalemtegene/envs/shared_env/lib/python3.9/site-packages (1.4.2)\n",
      "Requirement already satisfied: Werkzeug>=3.1 in /Users/zelalemtegene/envs/shared_env/lib/python3.9/site-packages (from flask) (3.1.3)\n",
      "Requirement already satisfied: Jinja2>=3.1.2 in /Users/zelalemtegene/envs/shared_env/lib/python3.9/site-packages (from flask) (3.1.5)\n",
      "Requirement already satisfied: itsdangerous>=2.2 in /Users/zelalemtegene/envs/shared_env/lib/python3.9/site-packages (from flask) (2.2.0)\n",
      "Requirement already satisfied: click>=8.1.3 in /Users/zelalemtegene/envs/shared_env/lib/python3.9/site-packages (from flask) (8.1.8)\n",
      "Requirement already satisfied: blinker>=1.9 in /Users/zelalemtegene/envs/shared_env/lib/python3.9/site-packages (from flask) (1.9.0)\n",
      "Requirement already satisfied: importlib-metadata>=3.6 in /Users/zelalemtegene/envs/shared_env/lib/python3.9/site-packages (from flask) (8.6.1)\n",
      "Requirement already satisfied: numpy>=1.19.5 in /Users/zelalemtegene/envs/shared_env/lib/python3.9/site-packages (from scikit-learn) (2.0.2)\n",
      "Requirement already satisfied: scipy>=1.6.0 in /Users/zelalemtegene/envs/shared_env/lib/python3.9/site-packages (from scikit-learn) (1.13.1)\n",
      "Requirement already satisfied: threadpoolctl>=3.1.0 in /Users/zelalemtegene/envs/shared_env/lib/python3.9/site-packages (from scikit-learn) (3.5.0)\n",
      "Requirement already satisfied: zipp>=3.20 in /Users/zelalemtegene/envs/shared_env/lib/python3.9/site-packages (from importlib-metadata>=3.6->flask) (3.21.0)\n",
      "Requirement already satisfied: MarkupSafe>=2.0 in /Users/zelalemtegene/envs/shared_env/lib/python3.9/site-packages (from Jinja2>=3.1.2->flask) (3.0.2)\n"
     ]
    }
   ],
   "source": [
    "!pip install flask scikit-learn joblib"
   ]
  },
  {
   "cell_type": "markdown",
   "metadata": {},
   "source": [
    "### Load Trained Model"
   ]
  },
  {
   "cell_type": "code",
   "execution_count": 11,
   "metadata": {},
   "outputs": [
    {
     "data": {
      "text/plain": [
       "['gbm_model.pkl']"
      ]
     },
     "execution_count": 11,
     "metadata": {},
     "output_type": "execute_result"
    }
   ],
   "source": [
    "import joblib\n",
    "model = joblib.load(\"gbm_model.pkl\")  # Load with current environment version\n",
    "joblib.dump(model, \"gbm_model.pkl\")  # Save it again"
   ]
  },
  {
   "cell_type": "markdown",
   "metadata": {},
   "source": [
    "# Run FlaskApi.py \n",
    "- Test Api and vist the endpoints:\n",
    "**http://127.0.0.1:5003/**"
   ]
  }
 ],
 "metadata": {
  "kernelspec": {
   "display_name": "shared_env",
   "language": "python",
   "name": "python3"
  },
  "language_info": {
   "codemirror_mode": {
    "name": "ipython",
    "version": 3
   },
   "file_extension": ".py",
   "mimetype": "text/x-python",
   "name": "python",
   "nbconvert_exporter": "python",
   "pygments_lexer": "ipython3",
   "version": "3.9.18"
  }
 },
 "nbformat": 4,
 "nbformat_minor": 2
}
